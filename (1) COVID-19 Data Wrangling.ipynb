{
 "cells": [
  {
   "cell_type": "markdown",
   "metadata": {},
   "source": [
    "#### Aggregates ZCTA-level case data to the PUMA level by merging with ZCTA-to-PUMA crosswalk and grouping by PUMA."
   ]
  },
  {
   "cell_type": "code",
   "execution_count": 1,
   "metadata": {},
   "outputs": [],
   "source": [
    "import pandas as pd\n",
    "df = pd.read_csv(\"tests-by-zcta-04-29.csv\")\n",
    "df.rename(columns = {\"MODZCTA\":\"zcta10\"}, inplace = True)\n",
    "df_zp = pd.read_excel(\"nyc_zcta10_to_puma10.xls\", sheet_name = 1)[['zcta10','puma10','pumaname']]\n",
    "dfp = pd.merge(df, df_zp)"
   ]
  },
  {
   "cell_type": "code",
   "execution_count": 2,
   "metadata": {},
   "outputs": [],
   "source": [
    "## Extracts PUMA names from the sorted dataset, to be appended after groupby.\n",
    "names = dfp.sort_values('puma10')['pumaname']\n",
    "names.drop_duplicates(inplace = True)\n",
    "names = names.reset_index()['pumaname']"
   ]
  },
  {
   "cell_type": "code",
   "execution_count": 3,
   "metadata": {},
   "outputs": [],
   "source": [
    "dfp_agg = dfp.groupby('puma10').sum()[['Positive', 'Total']]\n",
    "dfp_agg.reset_index(inplace = True)\n",
    "dfp_agg['pumaname'] = names"
   ]
  },
  {
   "cell_type": "code",
   "execution_count": 4,
   "metadata": {},
   "outputs": [
    {
     "data": {
      "text/html": [
       "<div>\n",
       "<style scoped>\n",
       "    .dataframe tbody tr th:only-of-type {\n",
       "        vertical-align: middle;\n",
       "    }\n",
       "\n",
       "    .dataframe tbody tr th {\n",
       "        vertical-align: top;\n",
       "    }\n",
       "\n",
       "    .dataframe thead th {\n",
       "        text-align: right;\n",
       "    }\n",
       "</style>\n",
       "<table border=\"1\" class=\"dataframe\">\n",
       "  <thead>\n",
       "    <tr style=\"text-align: right;\">\n",
       "      <th></th>\n",
       "      <th>puma10</th>\n",
       "      <th>Positive</th>\n",
       "      <th>Total</th>\n",
       "      <th>pumaname</th>\n",
       "    </tr>\n",
       "  </thead>\n",
       "  <tbody>\n",
       "    <tr>\n",
       "      <td>0</td>\n",
       "      <td>3701</td>\n",
       "      <td>1991</td>\n",
       "      <td>4685</td>\n",
       "      <td>NYC-Bronx Community District 8--Riverdale, Fie...</td>\n",
       "    </tr>\n",
       "    <tr>\n",
       "      <td>1</td>\n",
       "      <td>3702</td>\n",
       "      <td>2390</td>\n",
       "      <td>4856</td>\n",
       "      <td>NYC-Bronx Community District 12--Wakefield, Wi...</td>\n",
       "    </tr>\n",
       "    <tr>\n",
       "      <td>2</td>\n",
       "      <td>3703</td>\n",
       "      <td>4456</td>\n",
       "      <td>10329</td>\n",
       "      <td>NYC-Bronx Community District 10--Co-op City, P...</td>\n",
       "    </tr>\n",
       "  </tbody>\n",
       "</table>\n",
       "</div>"
      ],
      "text/plain": [
       "   puma10  Positive  Total                                           pumaname\n",
       "0    3701      1991   4685  NYC-Bronx Community District 8--Riverdale, Fie...\n",
       "1    3702      2390   4856  NYC-Bronx Community District 12--Wakefield, Wi...\n",
       "2    3703      4456  10329  NYC-Bronx Community District 10--Co-op City, P..."
      ]
     },
     "execution_count": 4,
     "metadata": {},
     "output_type": "execute_result"
    }
   ],
   "source": [
    "dfp_agg[:3]"
   ]
  },
  {
   "cell_type": "markdown",
   "metadata": {},
   "source": [
    "#### Maps each PUMA to the ID of their approximate Community District. For the 4 PUMAs that comprise 2 CDs each, I mapped to the first ID of the pair e.g. MN01 for MN01-MN02, MN04 for MN04-MN05, BX01 for BX01-BX02, and BX03 for BX03-BX06."
   ]
  },
  {
   "cell_type": "code",
   "execution_count": 5,
   "metadata": {},
   "outputs": [],
   "source": [
    "puma_to_id = pd.read_csv('puma_to_id.csv')\n",
    "df1 = pd.merge(dfp_agg, puma_to_id)"
   ]
  },
  {
   "cell_type": "code",
   "execution_count": 6,
   "metadata": {},
   "outputs": [
    {
     "data": {
      "text/html": [
       "<div>\n",
       "<style scoped>\n",
       "    .dataframe tbody tr th:only-of-type {\n",
       "        vertical-align: middle;\n",
       "    }\n",
       "\n",
       "    .dataframe tbody tr th {\n",
       "        vertical-align: top;\n",
       "    }\n",
       "\n",
       "    .dataframe thead th {\n",
       "        text-align: right;\n",
       "    }\n",
       "</style>\n",
       "<table border=\"1\" class=\"dataframe\">\n",
       "  <thead>\n",
       "    <tr style=\"text-align: right;\">\n",
       "      <th></th>\n",
       "      <th>puma10</th>\n",
       "      <th>Positive</th>\n",
       "      <th>Total</th>\n",
       "      <th>pumaname</th>\n",
       "      <th>ID</th>\n",
       "    </tr>\n",
       "  </thead>\n",
       "  <tbody>\n",
       "    <tr>\n",
       "      <td>0</td>\n",
       "      <td>3701</td>\n",
       "      <td>1991</td>\n",
       "      <td>4685</td>\n",
       "      <td>NYC-Bronx Community District 8--Riverdale, Fie...</td>\n",
       "      <td>208</td>\n",
       "    </tr>\n",
       "    <tr>\n",
       "      <td>1</td>\n",
       "      <td>3702</td>\n",
       "      <td>2390</td>\n",
       "      <td>4856</td>\n",
       "      <td>NYC-Bronx Community District 12--Wakefield, Wi...</td>\n",
       "      <td>212</td>\n",
       "    </tr>\n",
       "    <tr>\n",
       "      <td>2</td>\n",
       "      <td>3703</td>\n",
       "      <td>4456</td>\n",
       "      <td>10329</td>\n",
       "      <td>NYC-Bronx Community District 10--Co-op City, P...</td>\n",
       "      <td>210</td>\n",
       "    </tr>\n",
       "    <tr>\n",
       "      <td>3</td>\n",
       "      <td>3704</td>\n",
       "      <td>2455</td>\n",
       "      <td>4706</td>\n",
       "      <td>NYC-Bronx Community District 11--Pelham Parkwa...</td>\n",
       "      <td>211</td>\n",
       "    </tr>\n",
       "    <tr>\n",
       "      <td>4</td>\n",
       "      <td>3705</td>\n",
       "      <td>3285</td>\n",
       "      <td>6571</td>\n",
       "      <td>NYC-Bronx Community District 3 &amp; 6--Belmont, C...</td>\n",
       "      <td>203</td>\n",
       "    </tr>\n",
       "  </tbody>\n",
       "</table>\n",
       "</div>"
      ],
      "text/plain": [
       "   puma10  Positive  Total                                           pumaname  \\\n",
       "0    3701      1991   4685  NYC-Bronx Community District 8--Riverdale, Fie...   \n",
       "1    3702      2390   4856  NYC-Bronx Community District 12--Wakefield, Wi...   \n",
       "2    3703      4456  10329  NYC-Bronx Community District 10--Co-op City, P...   \n",
       "3    3704      2455   4706  NYC-Bronx Community District 11--Pelham Parkwa...   \n",
       "4    3705      3285   6571  NYC-Bronx Community District 3 & 6--Belmont, C...   \n",
       "\n",
       "    ID  \n",
       "0  208  \n",
       "1  212  \n",
       "2  210  \n",
       "3  211  \n",
       "4  203  "
      ]
     },
     "execution_count": 6,
     "metadata": {},
     "output_type": "execute_result"
    }
   ],
   "source": [
    "## Observe that PUMA 3705 containing BX03 and BX06 is assigned to 203.\n",
    "df1[:5]"
   ]
  },
  {
   "cell_type": "markdown",
   "metadata": {},
   "source": [
    "#### Merges COVID case counts with CHP dataset containing demographic and socioeconomic indicators."
   ]
  },
  {
   "cell_type": "code",
   "execution_count": 7,
   "metadata": {},
   "outputs": [],
   "source": [
    "chp = pd.read_excel(\"2018-chp-dataset.xlsx\", sheet_name = \"CHP_all_data\")\n",
    "chp = chp[:59]"
   ]
  },
  {
   "cell_type": "code",
   "execution_count": 8,
   "metadata": {},
   "outputs": [
    {
     "data": {
      "text/html": [
       "<div>\n",
       "<style scoped>\n",
       "    .dataframe tbody tr th:only-of-type {\n",
       "        vertical-align: middle;\n",
       "    }\n",
       "\n",
       "    .dataframe tbody tr th {\n",
       "        vertical-align: top;\n",
       "    }\n",
       "\n",
       "    .dataframe thead th {\n",
       "        text-align: right;\n",
       "    }\n",
       "</style>\n",
       "<table border=\"1\" class=\"dataframe\">\n",
       "  <thead>\n",
       "    <tr style=\"text-align: right;\">\n",
       "      <th></th>\n",
       "      <th>ID</th>\n",
       "      <th>Borough</th>\n",
       "      <th>Name</th>\n",
       "      <th>under18_rate</th>\n",
       "      <th>over65_rate</th>\n",
       "      <th>pct_asian_nh</th>\n",
       "      <th>pct_black_nh</th>\n",
       "      <th>pct_hispanic</th>\n",
       "      <th>pct_white_nh</th>\n",
       "      <th>pct_foreign_born</th>\n",
       "      <th>...</th>\n",
       "      <th>upper_95CL.9</th>\n",
       "      <th>Obesity</th>\n",
       "      <th>lower_95CL.10</th>\n",
       "      <th>upper_95CL.10</th>\n",
       "      <th>Diabetes</th>\n",
       "      <th>lower_95CL.11</th>\n",
       "      <th>upper_95CL.11</th>\n",
       "      <th>Hypertension</th>\n",
       "      <th>lower_95CL.12</th>\n",
       "      <th>upper_95CL.12</th>\n",
       "    </tr>\n",
       "  </thead>\n",
       "  <tbody>\n",
       "    <tr>\n",
       "      <td>0</td>\n",
       "      <td>101</td>\n",
       "      <td>Manhattan</td>\n",
       "      <td>Financial District</td>\n",
       "      <td>12.8</td>\n",
       "      <td>12.2</td>\n",
       "      <td>15.7</td>\n",
       "      <td>2.3</td>\n",
       "      <td>6.4</td>\n",
       "      <td>72.0</td>\n",
       "      <td>23.9</td>\n",
       "      <td>...</td>\n",
       "      <td>53.9</td>\n",
       "      <td>4.30</td>\n",
       "      <td>2.4</td>\n",
       "      <td>6.2</td>\n",
       "      <td>3.95</td>\n",
       "      <td>1.9</td>\n",
       "      <td>6.0</td>\n",
       "      <td>15.80</td>\n",
       "      <td>11.7</td>\n",
       "      <td>19.9</td>\n",
       "    </tr>\n",
       "    <tr>\n",
       "      <td>1</td>\n",
       "      <td>102</td>\n",
       "      <td>Manhattan</td>\n",
       "      <td>Greenwich Village and Soho</td>\n",
       "      <td>12.8</td>\n",
       "      <td>12.2</td>\n",
       "      <td>15.7</td>\n",
       "      <td>2.3</td>\n",
       "      <td>6.4</td>\n",
       "      <td>72.0</td>\n",
       "      <td>23.9</td>\n",
       "      <td>...</td>\n",
       "      <td>53.9</td>\n",
       "      <td>4.30</td>\n",
       "      <td>2.4</td>\n",
       "      <td>6.2</td>\n",
       "      <td>3.95</td>\n",
       "      <td>1.9</td>\n",
       "      <td>6.0</td>\n",
       "      <td>15.80</td>\n",
       "      <td>11.7</td>\n",
       "      <td>19.9</td>\n",
       "    </tr>\n",
       "    <tr>\n",
       "      <td>2</td>\n",
       "      <td>103</td>\n",
       "      <td>Manhattan</td>\n",
       "      <td>Lower East Side and Chinatown</td>\n",
       "      <td>11.7</td>\n",
       "      <td>17.0</td>\n",
       "      <td>32.1</td>\n",
       "      <td>7.4</td>\n",
       "      <td>25.1</td>\n",
       "      <td>32.7</td>\n",
       "      <td>34.9</td>\n",
       "      <td>...</td>\n",
       "      <td>53.4</td>\n",
       "      <td>10.45</td>\n",
       "      <td>6.9</td>\n",
       "      <td>14.0</td>\n",
       "      <td>11.25</td>\n",
       "      <td>7.7</td>\n",
       "      <td>14.8</td>\n",
       "      <td>22.55</td>\n",
       "      <td>17.9</td>\n",
       "      <td>27.2</td>\n",
       "    </tr>\n",
       "  </tbody>\n",
       "</table>\n",
       "<p>3 rows × 64 columns</p>\n",
       "</div>"
      ],
      "text/plain": [
       "    ID    Borough                           Name  under18_rate  over65_rate  \\\n",
       "0  101  Manhattan             Financial District          12.8         12.2   \n",
       "1  102  Manhattan     Greenwich Village and Soho          12.8         12.2   \n",
       "2  103  Manhattan  Lower East Side and Chinatown          11.7         17.0   \n",
       "\n",
       "   pct_asian_nh  pct_black_nh  pct_hispanic  pct_white_nh  pct_foreign_born  \\\n",
       "0          15.7           2.3           6.4          72.0              23.9   \n",
       "1          15.7           2.3           6.4          72.0              23.9   \n",
       "2          32.1           7.4          25.1          32.7              34.9   \n",
       "\n",
       "   ...  upper_95CL.9  Obesity  lower_95CL.10  upper_95CL.10  Diabetes  \\\n",
       "0  ...          53.9     4.30            2.4            6.2      3.95   \n",
       "1  ...          53.9     4.30            2.4            6.2      3.95   \n",
       "2  ...          53.4    10.45            6.9           14.0     11.25   \n",
       "\n",
       "   lower_95CL.11  upper_95CL.11  Hypertension  lower_95CL.12  upper_95CL.12  \n",
       "0            1.9            6.0         15.80           11.7           19.9  \n",
       "1            1.9            6.0         15.80           11.7           19.9  \n",
       "2            7.7           14.8         22.55           17.9           27.2  \n",
       "\n",
       "[3 rows x 64 columns]"
      ]
     },
     "execution_count": 8,
     "metadata": {},
     "output_type": "execute_result"
    }
   ],
   "source": [
    "chp[:3]"
   ]
  },
  {
   "cell_type": "code",
   "execution_count": 9,
   "metadata": {},
   "outputs": [
    {
     "data": {
      "text/plain": [
       "Index(['puma10', 'Positive', 'Total', 'pumaname', 'ID', 'Borough', 'Name',\n",
       "       'under18_rate', 'over65_rate', 'pct_asian_nh', 'pct_black_nh',\n",
       "       'pct_hispanic', 'pct_white_nh', 'pct_foreign_born', 'poverty_rate',\n",
       "       'count_hosp_clinic', 'below150poverty', 'MgBSciArtP', 'SrvcP',\n",
       "       'SalesOffP', 'NRCnstMntP', 'PrdTrnsMMP', 'MdHHIncE',\n",
       "       'Median household income', 'Overall_Pop', 'Ltd_Eng_Prof', 'lower_95CL',\n",
       "       'upper_95CL', 'Edu_Did_Not_Complete_HS', 'lower_95CL.1', 'upper_95CL.1',\n",
       "       'Edu_HSGrad_Some_College', 'lower_95CL.2', 'upper_95CL.2',\n",
       "       'Edu_College_Degree_And_Higher', 'lower_95CL.3', 'upper_95CL.3',\n",
       "       'Unemployment', 'lower_95CL.4', 'upper_95CL.4', 'Rent_Burden',\n",
       "       'lower_95CL.5', 'upper_95CL.5', 'Uninsured',\n",
       "       'Uninsured_reliability_note', 'lower_95CL.6', 'upper_95CL.6',\n",
       "       'Unmet_Med_Care', 'Unmet_Med_Care_reliability_note', 'lower_95CL.7',\n",
       "       'upper_95CL.7', 'Avoidable_Adult_Hosp', 'lower_95CL.8', 'upper_95CL.8',\n",
       "       'HPV_Vaccination_All', 'Flu_Vaccination',\n",
       "       'Flu_Vaccination_reliability_note', 'lower_95CL.9', 'upper_95CL.9',\n",
       "       'Obesity', 'lower_95CL.10', 'upper_95CL.10', 'Diabetes',\n",
       "       'lower_95CL.11', 'upper_95CL.11', 'Hypertension', 'lower_95CL.12',\n",
       "       'upper_95CL.12'],\n",
       "      dtype='object')"
      ]
     },
     "execution_count": 9,
     "metadata": {},
     "output_type": "execute_result"
    }
   ],
   "source": [
    "dfc = pd.merge(df1, chp)\n",
    "dfc.columns"
   ]
  },
  {
   "cell_type": "code",
   "execution_count": 10,
   "metadata": {},
   "outputs": [],
   "source": [
    "dfc['COVIDCasesPer10k'] = (dfc['Positive'] / dfc['Overall_Pop'] * 10000)"
   ]
  },
  {
   "cell_type": "code",
   "execution_count": 11,
   "metadata": {},
   "outputs": [],
   "source": [
    "dfc['TestsPer10k'] = (dfc['Total']/dfc['Overall_Pop'] * 10000)"
   ]
  },
  {
   "cell_type": "code",
   "execution_count": 12,
   "metadata": {},
   "outputs": [],
   "source": [
    "reg_vars =      ['puma10',\n",
    "                 'Borough',\n",
    "                 'COVIDCasesPer10k',\n",
    "                 'TestsPer10k',\n",
    "                 'Overall_Pop',\n",
    "                 'pct_asian_nh', 'pct_black_nh', 'pct_hispanic', 'pct_white_nh', \n",
    "                 'pct_foreign_born','Ltd_Eng_Prof',\n",
    "                 'under18_rate', 'over65_rate',\n",
    "                 'poverty_rate', 'below150poverty', 'Unemployment', 'Rent_Burden',\n",
    "                 'MgBSciArtP', 'SrvcP', 'SalesOffP', 'NRCnstMntP', 'PrdTrnsMMP', \n",
    "                 'MdHHIncE', 'Median household income', \n",
    "                 'Edu_Did_Not_Complete_HS', 'Edu_HSGrad_Some_College', 'Edu_College_Degree_And_Higher',\n",
    "                 'HPV_Vaccination_All','Diabetes','Obesity','Hypertension','count_hosp_clinic',]\n",
    "df_export = dfc[reg_vars]"
   ]
  },
  {
   "cell_type": "code",
   "execution_count": 13,
   "metadata": {},
   "outputs": [],
   "source": [
    "df_export.to_excel(\"covid_reg_dataset.xlsx\")"
   ]
  },
  {
   "cell_type": "code",
   "execution_count": null,
   "metadata": {},
   "outputs": [],
   "source": []
  }
 ],
 "metadata": {
  "kernelspec": {
   "display_name": "Python 3",
   "language": "python",
   "name": "python3"
  },
  "language_info": {
   "codemirror_mode": {
    "name": "ipython",
    "version": 3
   },
   "file_extension": ".py",
   "mimetype": "text/x-python",
   "name": "python",
   "nbconvert_exporter": "python",
   "pygments_lexer": "ipython3",
   "version": "3.7.4"
  }
 },
 "nbformat": 4,
 "nbformat_minor": 2
}
